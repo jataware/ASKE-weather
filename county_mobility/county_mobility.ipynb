{
 "cells": [
  {
   "cell_type": "markdown",
   "metadata": {},
   "source": [
    "### Data\n",
    "\n",
    "Go to: https://data.bts.gov/Research-and-Statistics/Trips-by-Distance/w96p-f2qv\n",
    "        \n",
    "- Top Right Corner, Select: `Export`\n",
    "- Select `CSV`"
   ]
  },
  {
   "cell_type": "code",
   "execution_count": 1,
   "metadata": {},
   "outputs": [],
   "source": [
    "# ALL IMPORTS\n",
    "import os\n",
    "import pandas as pd\n",
    "import numpy as np \n",
    "\n",
    "pd.set_option('display.max_rows', 500)"
   ]
  },
  {
   "cell_type": "code",
   "execution_count": 2,
   "metadata": {},
   "outputs": [],
   "source": [
    "# For FIPS sans leading zero\n",
    "def add_zero(x):\n",
    "    if len(x)<5:\n",
    "        return \"0\" + x\n",
    "    else:\n",
    "        return x"
   ]
  },
  {
   "cell_type": "code",
   "execution_count": 3,
   "metadata": {},
   "outputs": [],
   "source": [
    "#timestamp\n",
    "def stamper(x):\n",
    "    #temp = x['Date'].split(\"/\")\n",
    "    temp = x.split(\"/\")\n",
    "\n",
    "    m = temp[0]\n",
    "    d = temp[1]\n",
    "    y = temp[2]\n",
    "    \n",
    "    if len(m) == 1:\n",
    "        m = \"0\" + m\n",
    "\n",
    "    if len(d) == 1:\n",
    "        d = \"0\" + d\n",
    "     \n",
    "    y = \"20\" + y\n",
    "    \n",
    "    return f'{y}-{m}-{d}'"
   ]
  },
  {
   "cell_type": "code",
   "execution_count": 4,
   "metadata": {},
   "outputs": [],
   "source": [
    "# Read in data\n",
    "trips_fn = \"Trips_by_Distance.csv\"\n",
    "wrkdir = os.getcwd()\n",
    "\n",
    "df_full = pd.read_csv(f\"{wrkdir}/{trips_fn}\", sep=\",\", converters={'County FIPS': lambda x: add_zero(str(x))},engine='python')"
   ]
  },
  {
   "cell_type": "code",
   "execution_count": 5,
   "metadata": {},
   "outputs": [],
   "source": [
    "# Add timestamp\n",
    "df = df_full.copy()\n",
    "df[\"Timestamp\"] = df.Date.apply(lambda x: stamper(x))"
   ]
  },
  {
   "cell_type": "markdown",
   "metadata": {},
   "source": [
    "### Format"
   ]
  },
  {
   "cell_type": "code",
   "execution_count": 6,
   "metadata": {},
   "outputs": [],
   "source": [
    "# Delete unneeded columns\n",
    "delete_me = [\"Level\", \"Date\", \"State FIPS\"]\n",
    "for me in delete_me:\n",
    "    del df[me]\n",
    "    \n",
    "# Rename column\n",
    "df.rename(columns={\"State Postal Code\": \"State\"}, inplace=True)\n",
    "\n",
    "# Drop \"County\" from County Name\n",
    "df[\"County Name\"]=  df[\"County Name\"].apply(lambda x: str(x).replace(\"County\", \"\").strip())\n",
    "\n",
    "# Reorder columns\n",
    "new_cols = ['Timestamp', 'County Name', 'State', 'County FIPS','Population Staying at Home',\n",
    "            'Population Not Staying at Home', 'Number of Trips',\n",
    "            'Number of Trips <1', 'Number of Trips 1-3', 'Number of Trips 3-5',\n",
    "            'Number of Trips 5-10', 'Number of Trips 10-25',\n",
    "            'Number of Trips 25-50', 'Number of Trips 50-100',\n",
    "            'Number of Trips 100-250', 'Number of Trips 250-500',\n",
    "            'Number of Trips >=500']\n",
    "df = df[new_cols]\n",
    "\n",
    "# Delete rows without data\n",
    "df = df.dropna()\n",
    "\n",
    "# Convert people to integers\n",
    "cols = list(df.columns[4:])\n",
    "for col in cols:\n",
    "    df[col]= df[col].astype(int)"
   ]
  },
  {
   "cell_type": "code",
   "execution_count": 7,
   "metadata": {},
   "outputs": [],
   "source": [
    "# Write to csv\n",
    "df.to_csv(fr'{wrkdir}/county_mobility.csv', index = False)"
   ]
  },
  {
   "cell_type": "code",
   "execution_count": null,
   "metadata": {},
   "outputs": [],
   "source": []
  }
 ],
 "metadata": {
  "kernelspec": {
   "display_name": "Python 3",
   "language": "python",
   "name": "python3"
  },
  "language_info": {
   "codemirror_mode": {
    "name": "ipython",
    "version": 3
   },
   "file_extension": ".py",
   "mimetype": "text/x-python",
   "name": "python",
   "nbconvert_exporter": "python",
   "pygments_lexer": "ipython3",
   "version": "3.8.6"
  }
 },
 "nbformat": 4,
 "nbformat_minor": 4
}
