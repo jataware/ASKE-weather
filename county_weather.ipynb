{
 "cells": [
  {
   "cell_type": "markdown",
   "metadata": {},
   "source": [
    "### Notebook Overview\n",
    "1. #### Auto Download county weather data from NOAA at: ftp://ftp.ncdc.noaa.gov/pub/data/cirs/climdiv/\n",
    "  - Data: precipitation, Tmax, Tmin, Tavg\n",
    "\n",
    "  - These county-level files are downloaded to your working directory\n",
    "  \n",
    "    - climdiv-pcpncy-vx.y.z-YYYYMMDD\n",
    "\n",
    "    - climdiv-tmaxcy-vx.y.z-YYYYMMDD\n",
    "\n",
    "    - climdiv-tmincy-vx.y.z-YYYYMMDD\n",
    "    \n",
    "    - climdiv-tmpccy-vx.y.z-YYYYMMDD  \n",
    "      \n",
    "\n",
    "2. ####  Read in FIPS transforms: NOAA uses different state FIPS codes \n",
    "  \n",
    "  - You will need these files in your working directory for required FIPS transforms\n",
    "\n",
    "    - `noaa_fips.txt`\n",
    "\n",
    "    - `noaa_states.txt`\n",
    "\n",
    "    - `state_fips.txt`\n",
    "    \n",
    "3. ####  Read in NOAA data (dataframes)\n",
    "\n",
    "4. ####  Format dataframes (year filter and pivot to usable form)\n",
    "\n",
    "5. ####  Write formatted data file to working directory"
   ]
  },
  {
   "cell_type": "code",
   "execution_count": null,
   "metadata": {},
   "outputs": [],
   "source": [
    "# ALL IMPORTS\n",
    "from ftplib import FTP\n",
    "import os\n",
    "import pandas as pd\n",
    "import itertools\n",
    "import time\n",
    "import numpy as np\n",
    "import random as rd\n",
    "\n",
    "pd.set_option('display.max_rows', 500)"
   ]
  },
  {
   "cell_type": "markdown",
   "metadata": {},
   "source": [
    "### Enter the start and end years of the weather data you would like (max range: 1895-2020)"
   ]
  },
  {
   "cell_type": "code",
   "execution_count": null,
   "metadata": {},
   "outputs": [],
   "source": [
    "start_user = 2010\n",
    "end_user = 2020"
   ]
  },
  {
   "cell_type": "markdown",
   "metadata": {},
   "source": [
    "### 1. Download county data from NOAA"
   ]
  },
  {
   "cell_type": "code",
   "execution_count": null,
   "metadata": {},
   "outputs": [],
   "source": [
    "def countdown(t):\n",
    "    while t: \n",
    "        mins, secs = divmod(t, 60) \n",
    "        timer = '{:02d}:{:02d}'.format(mins, secs) \n",
    "        print(\"Retry in: \" + timer + \" seconds\", end=\"\\r\") \n",
    "        time.sleep(1) \n",
    "        t -= 1\n",
    "\n",
    "def download_noaa(max_tries, min_delay, max_delay):\n",
    "    \n",
    "    i = 1\n",
    "    while i <= max_tries:\n",
    "        \n",
    "        try:\n",
    "            # Download (TO WRKDIR) 4 county weather files from NOAA ftp\n",
    "            ftp = FTP('ftp.ncdc.noaa.gov') # ftp access to ncdc.noaa.gov\n",
    "            ftp.login()                     # anonymous ftp login\n",
    "            ftp.cwd('pub/data/cirs/climdiv') # change directory\n",
    "  \n",
    "            # Get all the files on the ftp page and Filter to only the 4 county files\n",
    "            dirs = ftp.nlst() \n",
    "            description_files = [i for i in dirs if len(i.split('.'))>1]\n",
    "\n",
    "            #Delete any partial downloads\n",
    "            for file in description_files:\n",
    "                if os.path.exists(file):\n",
    "                    os.remove(file)\n",
    "                    print(f\"Deleted {file}\")\n",
    "            \n",
    "            files_to_download = []\n",
    "            for file in description_files:\n",
    "\n",
    "                if \"climdiv-pcpncy\" in file or \"climdiv-tmaxcy\" in file or \"climdiv-tmincy\"in file or \"climdiv-tmpccy\" in file:\n",
    "                    files_to_download.append(file)\n",
    "            \n",
    "            for file in files_to_download:  \n",
    "                if os.path.isfile(file):\n",
    "                    print('Already downloaded file: '+ file)\n",
    "                    continue\n",
    "  \n",
    "                with open(file, 'wb') as fp:\n",
    "                    print(f'Downloading: {file.split(\"/\")[-1]}')\n",
    "                    ftp.retrbinary('RETR ' + file, fp.write)\n",
    "        \n",
    "            i = 11  \n",
    "            print(\"\\n\")        \n",
    "            print(f\"Complete. Files downloaded to: {os.getcwd()}\") \n",
    "            \n",
    "        except Exception as e:\n",
    "            print(f'Exception: {e}')\n",
    "            if i <= max_tries:\n",
    "                \n",
    "                sleep_time = rd.randint(min_delay, max_delay)\n",
    "                countdown(sleep_time)\n",
    "                \n",
    "                continue\n",
    "                \n",
    "            else:\n",
    "                print(f'Exceeded {max_tries} max download attempts')\n",
    "                break\n",
    "        i += 1  \n",
    "    return files_to_download    "
   ]
  },
  {
   "cell_type": "code",
   "execution_count": null,
   "metadata": {},
   "outputs": [],
   "source": [
    "files_to_download = download_noaa(5, 30, 60)"
   ]
  },
  {
   "cell_type": "markdown",
   "metadata": {},
   "source": [
    "### 2. Read in FIPS transforms"
   ]
  },
  {
   "cell_type": "code",
   "execution_count": null,
   "metadata": {},
   "outputs": [],
   "source": [
    "# Build transform from noaa state fips to census fips\n",
    "\n",
    "# Read in FIPS files:\n",
    "dir_ = f'{os.getcwd()}/noaa_to_census'\n",
    "\n",
    "# NOAA state-level FIPS from NOAA README\n",
    "noaa = f\"{dir_}/noaa_states.txt\"\n",
    "noaa_conv = pd.read_csv(noaa, sep=\",\", converters={'code_noaa': lambda x: str(x)},engine='python')\n",
    "\n",
    "# Census state-level FIPS \n",
    "state_fips = f\"{dir_}/state_fips.txt\"\n",
    "census_conv = pd.read_csv(state_fips, sep=\"\\t\", converters={'code': lambda x: str(x)}, engine='python')\n",
    "\n",
    "# No need for full state name; will use abbreviations\n",
    "del census_conv[\"Name\"]\n",
    "\n",
    "# NOAA county-level FIPS with name\n",
    "noaa_fn = f\"{dir_}/noaa_fips.txt\"\n",
    "noaa_fips= pd.read_csv(noaa_fn, sep=\"\\t\", converters={'noaa_fips': lambda x: str(x)},engine='python')"
   ]
  },
  {
   "cell_type": "code",
   "execution_count": null,
   "metadata": {},
   "outputs": [],
   "source": [
    "# Build lists to map NOAA to census state codes\n",
    "fips_rs = pd.concat([noaa_conv, census_conv], axis=1)\n",
    "noaa_code = list(fips_rs[\"code_noaa\"])\n",
    "noaa_state = list(fips_rs[\"state_noaa\"])\n",
    "census_state = list(fips_rs[\"state\"])\n",
    "census_code = list(fips_rs[\"code\"])"
   ]
  },
  {
   "cell_type": "code",
   "execution_count": null,
   "metadata": {},
   "outputs": [],
   "source": [
    "# build dict to map census state FIPS to NOAA state fips\n",
    "trans = {}\n",
    "for i in range(len(census_state)):\n",
    "    state = census_state[i]\n",
    "    fips = census_code[i]\n",
    "    trans[state] = [fips]\n",
    "    \n",
    "for temp_st in trans.keys():\n",
    "    for i in range(len(noaa_state)):\n",
    "        temp_noaa_st = noaa_state[i]\n",
    "        \n",
    "        if temp_st == temp_noaa_st:\n",
    "            trans[temp_st].append(noaa_code[i])  \n",
    "\n",
    "# Delete census keys that do not have data in the NOAA data            \n",
    "del_keys = []            \n",
    "for temp_st in trans.keys():            \n",
    "    if len(trans[temp_st]) == 1:\n",
    "           del_keys.append(temp_st)\n",
    "[trans.pop(key) for key in del_keys]\n",
    "\n",
    "#remove state abbrev as key: noaa state fips = key\n",
    "transformer = {}\n",
    "\n",
    "for key in trans.keys():\n",
    "    census = trans[key][0]\n",
    "    noaa = trans[key][1]\n",
    "    state_abbr = key\n",
    "    transformer[noaa] = [census, state_abbr] "
   ]
  },
  {
   "cell_type": "code",
   "execution_count": null,
   "metadata": {},
   "outputs": [],
   "source": [
    "# Take a look at the transform\n",
    "# KEY = NOAA state FIPS :: VALUE = census state FIPS and state abbreviation\n",
    "print(dict(itertools.islice(transformer.items(), 10)))"
   ]
  },
  {
   "cell_type": "code",
   "execution_count": null,
   "metadata": {},
   "outputs": [],
   "source": [
    "# And a little transform tester:\n",
    "# NOAA Ohio = 33, Census Ohio = 39\n",
    "# NOAA Oregon = 35, Census Oregon = 41\n",
    "tests = [\"33\", \"35\"]\n",
    "for test in tests:\n",
    "    print(f'NOAA {test} = Census {transformer[test][0]} = {transformer[test][1]}')"
   ]
  },
  {
   "cell_type": "markdown",
   "metadata": {},
   "source": [
    "### 3. Read in NOAA Data"
   ]
  },
  {
   "cell_type": "code",
   "execution_count": null,
   "metadata": {},
   "outputs": [],
   "source": [
    "# Filter to year range user requested:\n",
    "base_years = [i for i in range(1895, 2021)]\n",
    "user_years = [i for i in range(start_user, end_user +1)]\n",
    "yr_filter = set(base_years) ^ set(user_years)\n",
    "yr_filter_str = [str(i) for i in yr_filter]\n",
    "\n",
    "def year_filter(df, yr_filter_str):\n",
    "\n",
    "    df['year'] = df.noaa_code.apply(lambda x: x[-4:])\n",
    "    df = df[~df[\"year\"].str.contains('|'.join(yr_filter_str))]\n",
    "    df = df.reset_index(drop=True)\n",
    "    \n",
    "    del df['year']\n",
    "    \n",
    "    return df\n",
    "\n",
    "# readin NOAA data and apply year filter\n",
    "def read_filter_data(file):\n",
    "    \n",
    "    fn = file.split(\"/\")[-1]\n",
    "    print(f'Reading:    {fn}')\n",
    "\n",
    "    names = ['noaa_code',1,2,3,4,5,6,7,8,9,10,11,12] \n",
    "    df = pd.read_csv(file, delim_whitespace=True, \n",
    "                     converters={'noaa_code': lambda x: str(x)},\n",
    "                     engine='python',\n",
    "                     names=names, \n",
    "                     header=None)\n",
    "\n",
    "    # Filter by selected years:\n",
    "    print(f\"Filtering:  {fn}\")\n",
    "    df = year_filter(df, yr_filter_str)\n",
    "    \n",
    "    return df\n",
    "\n",
    "# pivot wx data from column to row\n",
    "def restack_df(df,fn):\n",
    "    \n",
    "    if fn == \"01\":\n",
    "        wx = \"precipitation\"\n",
    "    if fn == \"02\":\n",
    "        wx = \"Tavg\"        \n",
    "    if fn == \"27\":\n",
    "        wx = \"Tmax\"        \n",
    "    if fn == \"28\":\n",
    "        wx = \"Tmin\"\n",
    "    \n",
    "    df = pd.DataFrame(df.set_index('noaa_code')\\\n",
    "                      .stack())\\\n",
    "                      .reset_index()\\\n",
    "                      .rename(columns={'level_1': 'month', 0: wx})\n",
    "    return df\n",
    "\n",
    "# Build full census FIPS to add to df    \n",
    "def census_fip(row):\n",
    "    county_fip = row.noaa_fips[-3:]\n",
    "    census_fips = row.census_state_fips + county_fip\n",
    "    \n",
    "    return census_fips    \n",
    "    \n",
    "# Generate timestamp\n",
    "def gen_ts(row):\n",
    "    mon = row.month\n",
    "    noaa_code = row.noaa_code\n",
    "    if int(mon)<=9:\n",
    "        mon = \"0\" + str(mon)    \n",
    "    return noaa_code[-4:] + '-' + str(mon) + \"-\" + \"28\"\n",
    "\n",
    "# Remove \"County\" from county name\n",
    "def format_county(name):\n",
    "    if \"County\" in name:\n",
    "        name = name.replace(\"County\", \"\").strip()\n",
    "    return name\n",
    "\n",
    "# To avoid 4 columns of noaa_codes, replace the wx-type with \"wx\"\n",
    "def replace_it(x):\n",
    "    temp = x[5:7]\n",
    "    x = x.replace(temp,\"wx\")\n",
    "    return x"
   ]
  },
  {
   "cell_type": "code",
   "execution_count": null,
   "metadata": {},
   "outputs": [],
   "source": [
    "# Back-up if ftp site fails; must have these files already in the directory\n",
    "files_to_download=[\"climdiv-pcpncy-v1.0.0-20201104\", \n",
    "                   \"climdiv-tmaxcy-v1.0.0-20201104\", \n",
    "                   \"climdiv-tmincy-v1.0.0-20201104\", \n",
    "                   \"climdiv-tmpccy-v1.0.0-20201104\"]\n",
    "\n",
    "starter = f\"{os.getcwd()}/\"\n",
    "files = [starter + file for file in files_to_download]"
   ]
  },
  {
   "cell_type": "code",
   "execution_count": null,
   "metadata": {},
   "outputs": [],
   "source": [
    "# Read in and filter NOAA data\n",
    "df_list = []\n",
    "for file in files:\n",
    "    \n",
    "    df_list.append(read_filter_data(file))\n",
    "    \n",
    "print(\"Complete\")    "
   ]
  },
  {
   "cell_type": "code",
   "execution_count": null,
   "metadata": {},
   "outputs": [],
   "source": [
    "# restack wx data column-to-row \n",
    "df_stack = []\n",
    "for df in df_list:\n",
    "\n",
    "    fn = df.noaa_code.iloc[0][5:7]\n",
    "\n",
    "    df_ = restack_df(df,fn)\n",
    "    \n",
    "    df_ = df_[~df_['noaa_code'].astype(str).str.startswith('50')]\n",
    "    \n",
    "    df_['noaa_fips'] = df_.noaa_code.apply(lambda x: x[:5])\n",
    "    \n",
    "    df_stack.append(df_)    "
   ]
  },
  {
   "cell_type": "code",
   "execution_count": null,
   "metadata": {
    "scrolled": true
   },
   "outputs": [],
   "source": [
    "# Convert NOAA to Census FIPS\n",
    "transformer_df = pd.DataFrame.from_dict(transformer).transpose().rename(columns = {0:'census_state_fips', 1: 'state'})\n",
    "noaa_fips['county_name'] = noaa_fips['county_name'].apply(lambda x: format_county(x))\n",
    "\n",
    "df_aug = []\n",
    "for df in df_stack:\n",
    "    \n",
    "    df_ = df.join(noaa_fips.set_index('noaa_fips'), how='left', on='noaa_fips')\n",
    "    df_['noaa_state_fips'] = df_.noaa_fips.apply(lambda x: x[:2])\n",
    "    df_ = df_.join(transformer_df, how='left', on='noaa_state_fips')\n",
    "    df_['census_county_fips'] = df_.apply(lambda row: census_fip(row), axis=1)\n",
    "    %time df_['timestamp'] = df_.apply(lambda row: gen_ts(row), axis=1)\n",
    "    \n",
    "    df_aug.append(df_)\n",
    "\n",
    "df_join = []\n",
    "for df in df_aug:\n",
    "    del df[\"census_state_fips\"]\n",
    "    del df[\"noaa_state_fips\"]\n",
    "    df.rename(columns = {'noaa_fips':'noaa_county_fips'}, inplace = True) \n",
    "    \n",
    "    df = df.replace(-99.90,np.NaN)\n",
    "    df = df.replace(-9.99,np.NaN)\n",
    "    \n",
    "    df_join.append(df)\n",
    "print(\"Complete with join\")    "
   ]
  },
  {
   "cell_type": "code",
   "execution_count": null,
   "metadata": {},
   "outputs": [],
   "source": [
    "# Combine the wx dataframes into one df\n",
    "result = pd.concat(df_join, axis=1)\n",
    "_, i = np.unique(result.columns, return_index=True)\n",
    "res = result.iloc[:, i]\n",
    "res = res[[\"timestamp\",\"county_name\",\"state\", \"census_county_fips\",\"noaa_county_fips\",\"precipitation\", \"Tavg\", \"Tmin\", \"Tmax\",\"noaa_code\"]]\n",
    "#res['noaa_code'] = res.noaa_code.apply(lambda x: replace_it(x))"
   ]
  },
  {
   "cell_type": "code",
   "execution_count": null,
   "metadata": {},
   "outputs": [],
   "source": [
    "res"
   ]
  },
  {
   "cell_type": "code",
   "execution_count": null,
   "metadata": {},
   "outputs": [],
   "source": [
    "# write csv to working directory:\n",
    "res.to_csv(fr'{os.getcwd()}/county_wx_{start_user}_{end_user}.csv', index = False)"
   ]
  }
 ],
 "metadata": {
  "kernelspec": {
   "display_name": "Python 3",
   "language": "python",
   "name": "python3"
  },
  "language_info": {
   "codemirror_mode": {
    "name": "ipython",
    "version": 3
   },
   "file_extension": ".py",
   "mimetype": "text/x-python",
   "name": "python",
   "nbconvert_exporter": "python",
   "pygments_lexer": "ipython3",
   "version": "3.8.6"
  }
 },
 "nbformat": 4,
 "nbformat_minor": 4
}
